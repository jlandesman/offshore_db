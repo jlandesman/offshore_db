{
 "cells": [
  {
   "cell_type": "markdown",
   "metadata": {},
   "source": [
    "# Merge data for Panama Papers"
   ]
  },
  {
   "cell_type": "code",
   "execution_count": 3,
   "metadata": {},
   "outputs": [],
   "source": [
    "import pandas as pd\n",
    "import numpy as np"
   ]
  },
  {
   "cell_type": "markdown",
   "metadata": {},
   "source": [
    "### Read in files"
   ]
  },
  {
   "cell_type": "code",
   "execution_count": 6,
   "metadata": {},
   "outputs": [
    {
     "name": "stderr",
     "output_type": "stream",
     "text": [
      "/home/ec2-user/anaconda3/lib/python3.6/site-packages/IPython/core/interactiveshell.py:2698: DtypeWarning: Columns (5,6) have mixed types. Specify dtype option on import or set low_memory=False.\n",
      "  interactivity=interactivity, compiler=compiler, result=result)\n"
     ]
    }
   ],
   "source": [
    "edges = pd.read_csv('panama/panama_papers.edges.csv')\n",
    "entities = pd.read_csv('panama/panama_papers.nodes.entity.csv')\n",
    "officers = pd.read_csv(\"panama/panama_papers.nodes.officer.csv\")"
   ]
  },
  {
   "cell_type": "markdown",
   "metadata": {},
   "source": [
    "### Merge on 'node_id' from edges"
   ]
  },
  {
   "cell_type": "markdown",
   "metadata": {},
   "source": [
    "TO DO: investigate 'intermediary'"
   ]
  },
  {
   "cell_type": "code",
   "execution_count": 37,
   "metadata": {},
   "outputs": [],
   "source": [
    "edges_merged = pd.merge(edges[edges['rel_type'] == 'officer_of'], \n",
    "                        officers, \n",
    "                        left_on = 'node_1', \n",
    "                        right_on = 'node_id', \n",
    "                        how='right')\n",
    "\n",
    "final_merged = pd.merge(edges_merged, \n",
    "                        entities, \n",
    "                        left_on = 'node_2', \n",
    "                        right_on = 'node_id', \n",
    "                        how='left')\n",
    "\n",
    "final_merged.columns = final_merged.columns.str.replace('_y', '_entity')\n",
    "final_merged.columns = final_merged.columns.str.replace('_x', '_officer')"
   ]
  },
  {
   "cell_type": "markdown",
   "metadata": {},
   "source": [
    "### Limit columns"
   ]
  },
  {
   "cell_type": "code",
   "execution_count": 49,
   "metadata": {
    "collapsed": true
   },
   "outputs": [],
   "source": [
    "final_merged = final_merged[['name_officer',\n",
    "                             'name_entity',\n",
    "                             'countries_officer',\n",
    "                             'address_officer',\n",
    "                             'countries_entity',\n",
    "                             'address_entity']]"
   ]
  },
  {
   "cell_type": "code",
   "execution_count": 51,
   "metadata": {},
   "outputs": [
    {
     "data": {
      "text/html": [
       "<div>\n",
       "<style>\n",
       "    .dataframe thead tr:only-child th {\n",
       "        text-align: right;\n",
       "    }\n",
       "\n",
       "    .dataframe thead th {\n",
       "        text-align: left;\n",
       "    }\n",
       "\n",
       "    .dataframe tbody tr th {\n",
       "        vertical-align: top;\n",
       "    }\n",
       "</style>\n",
       "<table border=\"1\" class=\"dataframe\">\n",
       "  <thead>\n",
       "    <tr style=\"text-align: right;\">\n",
       "      <th></th>\n",
       "      <th>name_officer</th>\n",
       "      <th>name_entity</th>\n",
       "      <th>countries_officer</th>\n",
       "      <th>address_officer</th>\n",
       "      <th>countries_entity</th>\n",
       "      <th>address_entity</th>\n",
       "    </tr>\n",
       "  </thead>\n",
       "  <tbody>\n",
       "    <tr>\n",
       "      <th>0</th>\n",
       "      <td>KIM SOO IN</td>\n",
       "      <td>TOPSON MARK LIMITED</td>\n",
       "      <td>South Korea</td>\n",
       "      <td>NaN</td>\n",
       "      <td>United States</td>\n",
       "      <td>MR WALTER KIM; ESQ. \\t CO RODI &amp; POLLOCK  444 ...</td>\n",
       "    </tr>\n",
       "    <tr>\n",
       "      <th>1</th>\n",
       "      <td>Tian Yuan</td>\n",
       "      <td>CELLO HOLDINGS LIMITED</td>\n",
       "      <td>China</td>\n",
       "      <td>NaN</td>\n",
       "      <td>Hong Kong</td>\n",
       "      <td>RAPID MANAGEMENT SERVICES COMPANY 4TH FLOOR, W...</td>\n",
       "    </tr>\n",
       "    <tr>\n",
       "      <th>2</th>\n",
       "      <td>GREGORY JOHN SOLOMON</td>\n",
       "      <td>Hanuman Energy Ltd.</td>\n",
       "      <td>Australia</td>\n",
       "      <td>NaN</td>\n",
       "      <td>Singapore</td>\n",
       "      <td>105 SOPHIA ROAD #01-03 SINGAPORE 228170</td>\n",
       "    </tr>\n",
       "    <tr>\n",
       "      <th>3</th>\n",
       "      <td>MATSUDA MASUMI</td>\n",
       "      <td>BAOJ INTERNATIONAL CO., LTD.</td>\n",
       "      <td>Japan</td>\n",
       "      <td>NaN</td>\n",
       "      <td>Hong Kong</td>\n",
       "      <td>ORION HOUSE SERVICES (HK) LIMITED ROOM 1401; 1...</td>\n",
       "    </tr>\n",
       "    <tr>\n",
       "      <th>4</th>\n",
       "      <td>HO THUY NGA</td>\n",
       "      <td>BLUEWATER ALLIANCE LIMITED</td>\n",
       "      <td>Viet Nam</td>\n",
       "      <td>NaN</td>\n",
       "      <td>Hong Kong</td>\n",
       "      <td>CORPORATE MANAGEMENT SERVICES LIMITED 1301 BAN...</td>\n",
       "    </tr>\n",
       "  </tbody>\n",
       "</table>\n",
       "</div>"
      ],
      "text/plain": [
       "           name_officer                   name_entity countries_officer  \\\n",
       "0            KIM SOO IN           TOPSON MARK LIMITED       South Korea   \n",
       "1             Tian Yuan        CELLO HOLDINGS LIMITED             China   \n",
       "2  GREGORY JOHN SOLOMON           Hanuman Energy Ltd.         Australia   \n",
       "3        MATSUDA MASUMI  BAOJ INTERNATIONAL CO., LTD.             Japan   \n",
       "4           HO THUY NGA    BLUEWATER ALLIANCE LIMITED          Viet Nam   \n",
       "\n",
       "   address_officer countries_entity  \\\n",
       "0              NaN    United States   \n",
       "1              NaN        Hong Kong   \n",
       "2              NaN        Singapore   \n",
       "3              NaN        Hong Kong   \n",
       "4              NaN        Hong Kong   \n",
       "\n",
       "                                      address_entity  \n",
       "0  MR WALTER KIM; ESQ. \\t CO RODI & POLLOCK  444 ...  \n",
       "1  RAPID MANAGEMENT SERVICES COMPANY 4TH FLOOR, W...  \n",
       "2            105 SOPHIA ROAD #01-03 SINGAPORE 228170  \n",
       "3  ORION HOUSE SERVICES (HK) LIMITED ROOM 1401; 1...  \n",
       "4  CORPORATE MANAGEMENT SERVICES LIMITED 1301 BAN...  "
      ]
     },
     "execution_count": 51,
     "metadata": {},
     "output_type": "execute_result"
    }
   ],
   "source": [
    "final_merged.head()"
   ]
  },
  {
   "cell_type": "markdown",
   "metadata": {},
   "source": [
    "### How many unique companies and people?"
   ]
  },
  {
   "cell_type": "code",
   "execution_count": 58,
   "metadata": {},
   "outputs": [
    {
     "name": "stdout",
     "output_type": "stream",
     "text": [
      "Number unique companies: 119252, number of unique people: 122815\n"
     ]
    }
   ],
   "source": [
    "total = final_merged.shape[0]\n",
    "companies = len(final_merged['name_entity'].unique())\n",
    "people = len(final_merged['name_officer'].unique())\n",
    "\n",
    "print(\"Number unique companies: {}, number of unique people: {}\".format(companies, people))"
   ]
  },
  {
   "cell_type": "code",
   "execution_count": 55,
   "metadata": {
    "collapsed": true
   },
   "outputs": [],
   "source": [
    "final_merged.to_csv('panama_papers_cleaned.csv')"
   ]
  }
 ],
 "metadata": {
  "kernelspec": {
   "display_name": "Python 3",
   "language": "python",
   "name": "python3"
  },
  "language_info": {
   "codemirror_mode": {
    "name": "ipython",
    "version": 3
   },
   "file_extension": ".py",
   "mimetype": "text/x-python",
   "name": "python",
   "nbconvert_exporter": "python",
   "pygments_lexer": "ipython3",
   "version": "3.6.3"
  }
 },
 "nbformat": 4,
 "nbformat_minor": 2
}
