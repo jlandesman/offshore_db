{
 "cells": [
  {
   "cell_type": "markdown",
   "metadata": {},
   "source": [
    "# Merge data for Panama Papers"
   ]
  },
  {
   "cell_type": "code",
   "execution_count": 1,
   "metadata": {
    "collapsed": true
   },
   "outputs": [],
   "source": [
    "import pandas as pd\n",
    "import numpy as np"
   ]
  },
  {
   "cell_type": "markdown",
   "metadata": {},
   "source": [
    "### Read in files"
   ]
  },
  {
   "cell_type": "code",
   "execution_count": 59,
   "metadata": {},
   "outputs": [
    {
     "name": "stderr",
     "output_type": "stream",
     "text": [
      "/home/ec2-user/anaconda3/lib/python3.6/site-packages/IPython/core/interactiveshell.py:2698: DtypeWarning: Columns (5,6) have mixed types. Specify dtype option on import or set low_memory=False.\n",
      "  interactivity=interactivity, compiler=compiler, result=result)\n",
      "/home/ec2-user/anaconda3/lib/python3.6/site-packages/IPython/core/interactiveshell.py:2698: DtypeWarning: Columns (17) have mixed types. Specify dtype option on import or set low_memory=False.\n",
      "  interactivity=interactivity, compiler=compiler, result=result)\n"
     ]
    }
   ],
   "source": [
    "edges = pd.read_csv('panama/panama_papers.edges.csv')\n",
    "entities = pd.read_csv('panama/panama_papers.nodes.entity.csv')\n",
    "officers = pd.read_csv(\"panama/panama_papers.nodes.officer.csv\")"
   ]
  },
  {
   "cell_type": "markdown",
   "metadata": {},
   "source": [
    "### Merge on 'node_id' from edges"
   ]
  },
  {
   "cell_type": "markdown",
   "metadata": {},
   "source": [
    "TO DO: investigate 'intermediary'"
   ]
  },
  {
   "cell_type": "code",
   "execution_count": 3,
   "metadata": {
    "collapsed": true
   },
   "outputs": [],
   "source": [
    "edges_merged = pd.merge(edges[edges['rel_type'] == 'officer_of'], \n",
    "                        officers, \n",
    "                        left_on = 'node_1', \n",
    "                        right_on = 'node_id', \n",
    "                        how='right')\n",
    "\n",
    "final_merged = pd.merge(edges_merged, \n",
    "                        entities, \n",
    "                        left_on = 'node_2', \n",
    "                        right_on = 'node_id', \n",
    "                        how='left')\n",
    "\n",
    "final_merged.columns = final_merged.columns.str.replace('_y', '_entity')\n",
    "final_merged.columns = final_merged.columns.str.replace('_x', '_officer')"
   ]
  },
  {
   "cell_type": "markdown",
   "metadata": {},
   "source": [
    "### Limit columns"
   ]
  },
  {
   "cell_type": "code",
   "execution_count": 4,
   "metadata": {
    "collapsed": true
   },
   "outputs": [],
   "source": [
    "final_merged = final_merged[['name_officer',\n",
    "                             'name_entity',\n",
    "                             'countries_officer',\n",
    "                             'address_officer',\n",
    "                             'countries_entity',\n",
    "                             'address_entity']]"
   ]
  },
  {
   "cell_type": "markdown",
   "metadata": {},
   "source": [
    "### How many unique companies and people?"
   ]
  },
  {
   "cell_type": "code",
   "execution_count": 12,
   "metadata": {},
   "outputs": [
    {
     "name": "stdout",
     "output_type": "stream",
     "text": [
      "Number unique companies: 101743, number of unique people: 185971\n"
     ]
    }
   ],
   "source": [
    "total = final_merged.shape[0]\n",
    "companies = len(final_merged['name_entity'].unique())\n",
    "people = len(final_merged['name_officer'].unique())\n",
    "\n",
    "print(\"Number unique companies: {}, number of unique people: {}\".format(companies, people))"
   ]
  },
  {
   "cell_type": "code",
   "execution_count": 13,
   "metadata": {
    "collapsed": true
   },
   "outputs": [],
   "source": [
    "final_merged.drop_duplicates(inplace=True)\n",
    "final_merged['address_officer'] = final_merged['address_entity'].astype('str')\n",
    "final_merged['address_officer'] = final_merged['address_entity'].str.replace('nan', '0')\n",
    "final_merged = final_merged[final_merged['name_entity'] != 'ORIFOUND DEVELOPMENT LIMITED']\n",
    "for column in final_merged.columns:\n",
    "    final_merged[column] = final_merged[column].str.replace('|', '')"
   ]
  },
  {
   "cell_type": "code",
   "execution_count": 14,
   "metadata": {},
   "outputs": [
    {
     "data": {
      "text/plain": [
       "name_officer         object\n",
       "name_entity          object\n",
       "countries_officer    object\n",
       "address_officer      object\n",
       "countries_entity     object\n",
       "address_entity       object\n",
       "dtype: object"
      ]
     },
     "execution_count": 14,
     "metadata": {},
     "output_type": "execute_result"
    }
   ],
   "source": [
    "final_merged.dtypes"
   ]
  },
  {
   "cell_type": "code",
   "execution_count": 15,
   "metadata": {
    "collapsed": true
   },
   "outputs": [],
   "source": [
    "final_merged.to_csv('panama/panama_papers_cleaned.csv', sep=\"|\", index=False, na_rep='0')"
   ]
  },
  {
   "cell_type": "code",
   "execution_count": null,
   "metadata": {
    "collapsed": true
   },
   "outputs": [],
   "source": []
  }
 ],
 "metadata": {
  "kernelspec": {
   "display_name": "Python 3",
   "language": "python",
   "name": "python3"
  },
  "language_info": {
   "codemirror_mode": {
    "name": "ipython",
    "version": 3
   },
   "file_extension": ".py",
   "mimetype": "text/x-python",
   "name": "python",
   "nbconvert_exporter": "python",
   "pygments_lexer": "ipython3",
   "version": "3.6.3"
  }
 },
 "nbformat": 4,
 "nbformat_minor": 2
}
