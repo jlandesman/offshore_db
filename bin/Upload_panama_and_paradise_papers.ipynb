{
 "cells": [
  {
   "cell_type": "markdown",
   "metadata": {},
   "source": [
    "# Read in Data"
   ]
  },
  {
   "cell_type": "code",
   "execution_count": 1,
   "metadata": {},
   "outputs": [
    {
     "name": "stderr",
     "output_type": "stream",
     "text": [
      "/home/ec2-user/anaconda3/lib/python3.6/site-packages/IPython/core/interactiveshell.py:2698: DtypeWarning: Columns (3,5) have mixed types. Specify dtype option on import or set low_memory=False.\n",
      "  interactivity=interactivity, compiler=compiler, result=result)\n"
     ]
    }
   ],
   "source": [
    "import pandas as pd\n",
    "import numpy as np\n",
    "from sqlalchemy import create_engine\n",
    "import psycopg2 as pg\n",
    "import io\n",
    "import pandas as pd\n",
    "\n",
    "## Read in login and pass\n",
    "with open('rootkey.csv') as f:\n",
    "    login = f.readline().strip('\\n')\n",
    "    passw = f.readline().strip('\\n')\n",
    "\n",
    "panama = pd.read_csv('panama/panama_papers_cleaned.csv', sep='|')\n",
    "paradise = pd.read_csv('paradise/paradies_papers_cleaned.csv', sep='|')"
   ]
  },
  {
   "cell_type": "markdown",
   "metadata": {
    "collapsed": true
   },
   "source": [
    "## Concat"
   ]
  },
  {
   "cell_type": "code",
   "execution_count": 2,
   "metadata": {},
   "outputs": [
    {
     "data": {
      "text/html": [
       "<div>\n",
       "<style>\n",
       "    .dataframe thead tr:only-child th {\n",
       "        text-align: right;\n",
       "    }\n",
       "\n",
       "    .dataframe thead th {\n",
       "        text-align: left;\n",
       "    }\n",
       "\n",
       "    .dataframe tbody tr th {\n",
       "        vertical-align: top;\n",
       "    }\n",
       "</style>\n",
       "<table border=\"1\" class=\"dataframe\">\n",
       "  <thead>\n",
       "    <tr style=\"text-align: right;\">\n",
       "      <th></th>\n",
       "      <th>name_officer</th>\n",
       "      <th>name_entity</th>\n",
       "      <th>countries_officer</th>\n",
       "      <th>address_officer</th>\n",
       "      <th>countries_entity</th>\n",
       "      <th>address_entity</th>\n",
       "      <th>type</th>\n",
       "    </tr>\n",
       "  </thead>\n",
       "  <tbody>\n",
       "    <tr>\n",
       "      <th>0</th>\n",
       "      <td>KIM SOO IN</td>\n",
       "      <td>TOPSON MARK LIMITED</td>\n",
       "      <td>South Korea</td>\n",
       "      <td>MR WALTER KIM; ESQ. \\t CO RODI &amp; POLLOCK  444 ...</td>\n",
       "      <td>United States</td>\n",
       "      <td>MR WALTER KIM; ESQ. \\t CO RODI &amp; POLLOCK  444 ...</td>\n",
       "      <td>panama</td>\n",
       "    </tr>\n",
       "    <tr>\n",
       "      <th>1</th>\n",
       "      <td>Tian Yuan</td>\n",
       "      <td>CELLO HOLDINGS LIMITED</td>\n",
       "      <td>China</td>\n",
       "      <td>RAPID MANAGEMENT SERVICES COMPANY 4TH FLOOR, W...</td>\n",
       "      <td>Hong Kong</td>\n",
       "      <td>RAPID MANAGEMENT SERVICES COMPANY 4TH FLOOR, W...</td>\n",
       "      <td>panama</td>\n",
       "    </tr>\n",
       "    <tr>\n",
       "      <th>2</th>\n",
       "      <td>GREGORY JOHN SOLOMON</td>\n",
       "      <td>HANUMAN ENERGY LTD.</td>\n",
       "      <td>Australia</td>\n",
       "      <td>105 SOPHIA ROAD #01-03 SINGAPORE 228170</td>\n",
       "      <td>Singapore</td>\n",
       "      <td>105 SOPHIA ROAD #01-03 SINGAPORE 228170</td>\n",
       "      <td>panama</td>\n",
       "    </tr>\n",
       "    <tr>\n",
       "      <th>3</th>\n",
       "      <td>MATSUDA MASUMI</td>\n",
       "      <td>BAOJ INTERNATIONAL CO., LTD.</td>\n",
       "      <td>Japan</td>\n",
       "      <td>ORION HOUSE SERVICES (HK) LIMITED ROOM 1401; 1...</td>\n",
       "      <td>Hong Kong</td>\n",
       "      <td>ORION HOUSE SERVICES (HK) LIMITED ROOM 1401; 1...</td>\n",
       "      <td>panama</td>\n",
       "    </tr>\n",
       "    <tr>\n",
       "      <th>4</th>\n",
       "      <td>HO THUY NGA</td>\n",
       "      <td>BLUEWATER ALLIANCE LIMITED</td>\n",
       "      <td>Viet Nam</td>\n",
       "      <td>CORPORATE MANAGEMENT SERVICES LIMITED 1301 BAN...</td>\n",
       "      <td>Hong Kong</td>\n",
       "      <td>CORPORATE MANAGEMENT SERVICES LIMITED 1301 BAN...</td>\n",
       "      <td>panama</td>\n",
       "    </tr>\n",
       "  </tbody>\n",
       "</table>\n",
       "</div>"
      ],
      "text/plain": [
       "           name_officer                   name_entity countries_officer  \\\n",
       "0            KIM SOO IN           TOPSON MARK LIMITED       South Korea   \n",
       "1             Tian Yuan        CELLO HOLDINGS LIMITED             China   \n",
       "2  GREGORY JOHN SOLOMON           HANUMAN ENERGY LTD.         Australia   \n",
       "3        MATSUDA MASUMI  BAOJ INTERNATIONAL CO., LTD.             Japan   \n",
       "4           HO THUY NGA    BLUEWATER ALLIANCE LIMITED          Viet Nam   \n",
       "\n",
       "                                     address_officer countries_entity  \\\n",
       "0  MR WALTER KIM; ESQ. \\t CO RODI & POLLOCK  444 ...    United States   \n",
       "1  RAPID MANAGEMENT SERVICES COMPANY 4TH FLOOR, W...        Hong Kong   \n",
       "2            105 SOPHIA ROAD #01-03 SINGAPORE 228170        Singapore   \n",
       "3  ORION HOUSE SERVICES (HK) LIMITED ROOM 1401; 1...        Hong Kong   \n",
       "4  CORPORATE MANAGEMENT SERVICES LIMITED 1301 BAN...        Hong Kong   \n",
       "\n",
       "                                      address_entity    type  \n",
       "0  MR WALTER KIM; ESQ. \\t CO RODI & POLLOCK  444 ...  panama  \n",
       "1  RAPID MANAGEMENT SERVICES COMPANY 4TH FLOOR, W...  panama  \n",
       "2            105 SOPHIA ROAD #01-03 SINGAPORE 228170  panama  \n",
       "3  ORION HOUSE SERVICES (HK) LIMITED ROOM 1401; 1...  panama  \n",
       "4  CORPORATE MANAGEMENT SERVICES LIMITED 1301 BAN...  panama  "
      ]
     },
     "execution_count": 2,
     "metadata": {},
     "output_type": "execute_result"
    }
   ],
   "source": [
    "panama['type'] = 'panama'\n",
    "paradise['type'] = 'paradise'\n",
    "merged = pd.concat([panama, paradise])\n",
    "merged['name_entity'] = merged['name_entity'].str.upper()\n",
    "merged.to_csv('panama_and_paradise_merged.csv', sep='|', na_rep='nan')\n",
    "merged.head()"
   ]
  },
  {
   "cell_type": "markdown",
   "metadata": {
    "collapsed": true
   },
   "source": [
    "## Connect to Database and Upload"
   ]
  },
  {
   "cell_type": "code",
   "execution_count": 8,
   "metadata": {
    "collapsed": true
   },
   "outputs": [],
   "source": [
    "engine_string = 'postgresql+psycopg2://' + login + ':' + passw + '@offshoredb.cwwa5jzhqwm0.us-east-1.rds.amazonaws.com:5432/offshoredb'\n",
    "engine = create_engine(engine_string)\n",
    "conn=engine.raw_connection()\n",
    "cur = conn.cursor()"
   ]
  },
  {
   "cell_type": "code",
   "execution_count": 10,
   "metadata": {
    "collapsed": true
   },
   "outputs": [],
   "source": [
    "sql_command = '''CREATE TABLE offshore_papers (\n",
    "    index int,\n",
    "    name_officer varchar,\n",
    "    name_entity varchar,\n",
    "    country_officer varchar,\n",
    "    address_officer varchar,\n",
    "    countries_entity varchar,\n",
    "    address_entity varchar\n",
    "    type varchar\n",
    "    )'''\n",
    "\n",
    "cur.execute(sql_command)\n",
    "conn.commit()"
   ]
  },
  {
   "cell_type": "code",
   "execution_count": 12,
   "metadata": {
    "collapsed": true
   },
   "outputs": [],
   "source": [
    "def upload_table(table_path, table_name):\n",
    "    with open(table_path) as f:\n",
    "        next(f) ## Skip header\n",
    "        cur.copy_from(f, table_name, sep='|')\n",
    "\n",
    "    conn.commit()\n",
    "    conn.close()"
   ]
  },
  {
   "cell_type": "code",
   "execution_count": 13,
   "metadata": {
    "collapsed": true
   },
   "outputs": [],
   "source": [
    "upload_table('panama_and_paradise_merged.csv', 'offshore_papers')"
   ]
  }
 ],
 "metadata": {
  "kernelspec": {
   "display_name": "Python 3",
   "language": "python",
   "name": "python3"
  },
  "language_info": {
   "codemirror_mode": {
    "name": "ipython",
    "version": 3
   },
   "file_extension": ".py",
   "mimetype": "text/x-python",
   "name": "python",
   "nbconvert_exporter": "python",
   "pygments_lexer": "ipython3",
   "version": "3.6.3"
  }
 },
 "nbformat": 4,
 "nbformat_minor": 2
}
